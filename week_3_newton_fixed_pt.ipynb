{
 "cells": [
  {
   "cell_type": "markdown",
   "metadata": {},
   "source": [
    "# Part I. Root-finding. Newton's iteration."
   ]
  },
  {
   "cell_type": "markdown",
   "metadata": {},
   "source": [
    "Write a function which performs Newton's iteration for a given function $f(x)$ with known derivative $f'(x)$. Your function should find the root of $f(x)$ with a predefined absolute accuracy $\\epsilon$. "
   ]
  },
  {
   "cell_type": "code",
   "execution_count": 17,
   "metadata": {},
   "outputs": [],
   "source": [
    "import numpy as np\n",
    "from matplotlib import pyplot as plt\n",
    "\n",
    "def newton_iteration(f, fder, x0, eps=1e-5, maxiter=1000):\n",
    "    x = x0 \n",
    "    x_n = x0 - 1 \n",
    "    n = 0 \n",
    "    while abs(x - x_n) >= eps:\n",
    "        x_n = x \n",
    "        x  = x - f(x) / fder(x) \n",
    "        n = n + 1  \n",
    "        if n == maxiter:\n",
    "            break\n",
    "    return x, n"
   ]
  },
  {
   "cell_type": "markdown",
   "metadata": {},
   "source": [
    "### Test I.1 \n",
    "\n",
    "Test your implementation on a simple example, $f(x) = x^2 - 1$ or similar. (20% of the total grade)"
   ]
  },
  {
   "cell_type": "code",
   "execution_count": 18,
   "metadata": {},
   "outputs": [
    {
     "name": "stdout",
     "output_type": "stream",
     "text": [
      "Первоначальное значение x0 : -99.99\n",
      "Корень: -1.0, кол-во итераций: 11\n",
      "Первоначальное значение x0 : -89.99\n",
      "Корень: -1.0, кол-во итераций: 11\n",
      "Первоначальное значение x0 : -79.99\n",
      "Корень: -1.0000000000151748, кол-во итераций: 10\n",
      "Первоначальное значение x0 : -69.99\n",
      "Корень: -1.000000000000391, кол-во итераций: 10\n",
      "Первоначальное значение x0 : -59.989999999999995\n",
      "Корень: -1.0000000000000029, кол-во итераций: 10\n",
      "Первоначальное значение x0 : -49.989999999999995\n",
      "Корень: -1.0, кол-во итераций: 10\n",
      "Первоначальное значение x0 : -39.989999999999995\n",
      "Корень: -1.000000000015066, кол-во итераций: 9\n",
      "Первоначальное значение x0 : -29.989999999999995\n",
      "Корень: -1.0000000000000029, кол-во итераций: 9\n",
      "Первоначальное значение x0 : -19.989999999999995\n",
      "Корень: -1.000000000014731, кол-во итераций: 8\n",
      "Первоначальное значение x0 : -9.989999999999995\n",
      "Корень: -1.0000000000136322, кол-во итераций: 7\n",
      "Первоначальное значение x0 : 0.010000000000005116\n",
      "Корень: 1.0, кол-во итераций: 11\n",
      "Первоначальное значение x0 : 10.010000000000005\n",
      "Корень: 1.0000000000143558, кол-во итераций: 7\n",
      "Первоначальное значение x0 : 20.010000000000005\n",
      "Корень: 1.0000000000151141, кол-во итераций: 8\n",
      "Первоначальное значение x0 : 30.010000000000005\n",
      "Корень: 1.0000000000000029, кол-во итераций: 9\n",
      "Первоначальное значение x0 : 40.010000000000005\n",
      "Корень: 1.00000000001526, кол-во итераций: 9\n",
      "Первоначальное значение x0 : 50.010000000000005\n",
      "Корень: 1.0, кол-во итераций: 10\n",
      "Первоначальное значение x0 : 60.010000000000005\n",
      "Корень: 1.000000000000003, кол-во итераций: 10\n",
      "Первоначальное значение x0 : 70.01\n",
      "Корень: 1.0000000000003944, кол-во итераций: 10\n",
      "Первоначальное значение x0 : 80.01\n",
      "Корень: 1.0000000000152722, кол-во итераций: 10\n",
      "Первоначальное значение x0 : 90.01\n",
      "Корень: 1.0, кол-во итераций: 11\n"
     ]
    }
   ],
   "source": [
    "def f(x):\n",
    "    return x ** 2 - 1\n",
    "def fder(x):\n",
    "    return 2 * x\n",
    "\n",
    "for x0 in np.arange(-100 + 0.01 , 100 + 0.01 , 10):\n",
    "    print('Первоначальное значение x0 : {}'.format(x0))\n",
    "    root, nof_i = newton_iteration(f, fder, x0)\n",
    "    print('Корень: {}, кол-во итераций: {}'.format(root, nof_i))"
   ]
  },
  {
   "cell_type": "markdown",
   "metadata": {},
   "source": [
    "### Test I.2\n",
    "\n",
    "Now consider a function which has a multiple root. Take $f(x) = (x^2 - 1)^2$ as an example. Implement a modified Newton's iteraion,\n",
    "\n",
    "$$\n",
    "x_{n+1} = x_{n} - m \\frac{f(x_n)}{f'(x_n)}\n",
    "$$\n",
    "\n",
    "and vary $m= 1, 2, 3, 4, 5$. Check the number of iterations required for convergence within a fixed $\\epsilon$. Are your observations consistent with the expectation that the convergence is quadratic is $m$ equals the multiplicity of the root, and is linear otherwise? (40% of the total grade)"
   ]
  },
  {
   "cell_type": "code",
   "execution_count": 19,
   "metadata": {},
   "outputs": [
    {
     "name": "stdout",
     "output_type": "stream",
     "text": [
      "Первоначальное значение x0 : -6 , m = 1\n",
      "Корень: -1.0000180390187419, кол-во итераций: 21 \n",
      "Первоначальное значение x0 : -6 , m = 2\n",
      "Корень: -1.0000000008888648, кол-во итераций: 6 \n",
      "Первоначальное значение x0 : -6 , m = 3\n",
      "Корень: -1.0000182268399191, кол-во итераций: 15 \n",
      "Первоначальное значение x0 : -6 , m = 4\n",
      "Корень: -5.999999999999989, кол-во итераций: 999 \n",
      "Первоначальное значение x0 : -6 , m = 5\n",
      "Корень: 0.5055759965313339, кол-во итераций: 999 \n",
      "Первоначальное значение x0 : 12 , m = 1\n",
      "Корень: 1.0000122444095771, кол-во итераций: 24 \n",
      "Первоначальное значение x0 : 12 , m = 2\n",
      "Корень: 1.0000000010340573, кол-во итераций: 7 \n",
      "Первоначальное значение x0 : 12 , m = 3\n",
      "Корень: 1.000010168305124, кол-во итераций: 12 \n",
      "Первоначальное значение x0 : 12 , m = 4\n",
      "Корень: 11.99999999999966, кол-во итераций: 999 \n",
      "Первоначальное значение x0 : 12 , m = 5\n",
      "Корень: 0.8576159619263376, кол-во итераций: 999 \n"
     ]
    }
   ],
   "source": [
    "def newton_iteration_m (f, fder, x0, m=1, eps=1e-5, maxiter=1000):\n",
    "    x = x0\n",
    "    for i in range(maxiter):\n",
    "        step = f(x) / fder(x)\n",
    "        if (abs(step) <= abs(eps * x)):\n",
    "            return (x, i)\n",
    "        else:\n",
    "            x -= m * step\n",
    "    return (x, i)\n",
    "\n",
    "def f_2(x):\n",
    "    return (x**2 - 1)**2\n",
    "def fder_2(x):\n",
    "    return (2*(x**2 - 1)*2*x)\n",
    "\n",
    "for i in [-6, 12]:\n",
    "    for j in range(1, 6):\n",
    "        print('Первоначальное значение x0 : {} , m = {}'.format(i, j))\n",
    "        root, nof_i = newton_iteration_m(f_2, fder_2, i, j)\n",
    "        print('Корень: {}, кол-во итераций: {} '.format(root, nof_i))"
   ]
  },
  {
   "cell_type": "markdown",
   "metadata": {},
   "source": [
    "# Part II. Fixed-point iteration"
   ]
  },
  {
   "cell_type": "markdown",
   "metadata": {},
   "source": [
    "Consider the following equation:\n",
    "\n",
    "$$\n",
    "\\sqrt{x} = \\cos{x}\n",
    "$$\n",
    "\n",
    "Plot the left-hand side and right-hand side of this equation, and localize the root graphically. Estimate the location of the root by visual inspection of the plot.\n",
    "\n",
    "Write a function which finds the solution using fixed-point iteration up to a predefined accuracy $\\epsilon$. Compare the result to an estimate from a visual inspection.\n",
    "\n",
    "Next, rewrite the fixed-point problem in the form\n",
    "\n",
    "$$\n",
    "x = x - \\alpha f(x)\n",
    "$$\n",
    "\n",
    "where $\\alpha$ is the free parameter. Check the dependence of the number of iterations required for a given $\\epsilon$ on $\\alpha$. Compare your results to an expectation that the optimal value of $\\alpha$ is given by \n",
    "\n",
    "$$\n",
    "\\alpha = \\frac{2}{m + M}\n",
    "$$\n",
    "\n",
    "where $0 < m < |f'(x)| < M$ over the localization interval. (40% of the total grade)"
   ]
  },
  {
   "cell_type": "code",
   "execution_count": 20,
   "metadata": {},
   "outputs": [
    {
     "data": {
      "image/png": "[encoded data removed]",
      "text/plain": [
       "<Figure size 432x288 with 1 Axes>"
      ]
     },
     "metadata": {
      "needs_background": "light"
     },
     "output_type": "display_data"
    }
   ],
   "source": [
    "\n",
    "x = np.linspace(0, 1, num = 1000)\n",
    "\n",
    "\n",
    "plt.plot(x, np.sqrt(x), label='y=sqrt(x)' )\n",
    "plt.plot(x, np.cos(x), label='y=cos(x)' )\n",
    "plt.grid()\n",
    "plt.legend()\n",
    "plt.show()"
   ]
  },
  {
   "cell_type": "code",
   "execution_count": 30,
   "metadata": {},
   "outputs": [
    {
     "name": "stdout",
     "output_type": "stream",
     "text": [
      "Корень: 0.6417127314101916, кол-во итераций: 12 \n"
     ]
    }
   ],
   "source": [
    "def fixed_point(f, x0, eps=1e-5, maxiter=1000):\n",
    "    x = x0\n",
    "    x_n = x0 - 1\n",
    "    n = 0\n",
    "    while abs(x - x_n) >= eps:\n",
    "        x_n = x #saving the previous value, as done before\n",
    "        x = x - f(x) \n",
    "        n = n + 1  \n",
    "        if n == maxiter:\n",
    "            break   \n",
    "    return x, n\n",
    "\n",
    "def f(x):\n",
    "    return np.sqrt(x) - np.cos(x) \n",
    "\n",
    "x, n = fixed_point(f, 0.7)\n",
    "\n",
    "print('Корень: {}, кол-во итераций: {} '.format(x, i))"
   ]
  },
  {
   "cell_type": "code",
   "execution_count": 35,
   "metadata": {},
   "outputs": [
    {
     "name": "stdout",
     "output_type": "stream",
     "text": [
      "Альфа: 2.00, Корень: -1.5817833583772412, кол-во итераций:\n",
      "Альфа: 1.78, Корень: -0.5755384249039934, кол-во итераций:\n",
      "Альфа: 1.56, Корень: -0.33941089332303753, кол-во итераций:\n",
      "Альфа: 1.33, Корень: -0.33753718287246026, кол-во итераций:\n",
      "Альфа: 1.11, Корень: 0.12815763014791948, кол-во итераций:\n",
      "Альфа: 0.89, Корень: 0.6417189927086574, кол-во итераций:\n",
      "Альфа: 0.67, Корень: 0.6417195082757315, кол-во итераций:\n",
      "Альфа: 0.44, Корень: 0.6417100780677919, кол-во итераций:\n",
      "Альфа: 0.22, Корень: 0.6416962206087852, кол-во итераций:\n",
      "Лучшая альфа: 0.52, Корень: 0.6417147884703004, кол-во итераций: 4 \n"
     ]
    }
   ],
   "source": [
    "def fixed_point_alf(f, x0, alpha, eps=1e-5, maxiter=1000):\n",
    "    x = x0\n",
    "    for i in range(maxiter):\n",
    "        if (abs(alpha*f(x)) <= eps):\n",
    "            return x, i\n",
    "        else:\n",
    "            x -= alpha*f(x)\n",
    "    return x, i\n",
    "\n",
    "def f_fixed_point_alf(x):\n",
    "    return x - np.cos(x)**2\n",
    "\n",
    "def f_der_fixed_point_alf(x):\n",
    "    return 1 + 2*np.cos(x)*np.sin(x)\n",
    "\n",
    "a_array = np.linspace(2, 0, 10)[:-1]\n",
    "\n",
    "for a in a_array:\n",
    "    x_root, nof_i = fixed_point_alf(f_fixed_point_alf, 0.2, a)\n",
    "    print('Альфа: {:.2f}, Корень: {}, кол-во итераций:'.format(a, x_root, nof_i))\n",
    "a_best = 2 / (f_der_fixed_point_alf(0.5) + f_der_fixed_point_alf(0.7))\n",
    "x_root, nof_i = fixed_point_enh(f_fixed_point_enh, 0.2, a_best)\n",
    "print('Лучшая альфа: {:.2f}, Корень: {}, кол-во итераций: {} '.format(a_best, x_root, nof_i))"
   ]
  },
  {
   "cell_type": "markdown",
   "metadata": {},
   "source": [
    "# Part III. Newton's fractal.\n",
    "\n",
    "(Not graded). \n",
    "\n",
    "Consider the equation\n",
    "\n",
    "$$\n",
    "x^3 = 1\n",
    "$$\n",
    "\n",
    "It has three solutions in the complex plane, $x_k = \\exp(i\\, 2\\pi k/ 3)$, $k = 0, 1, 2$.\n",
    "\n",
    "The Newton's iterations converge to one of these solutions, depending on the starting point in the complex plane (to converge to a complex-valued solution, the iteration needs a complex-valued starting point).\n",
    "\n",
    "Plot the \\emph{basins of attraction} of these roots on the complex plane of $x$ (i.e., on the plane $\\mathrm{Re}x$ -- $\\mathrm{Im}x$). To this end, make a series of calculations, varying the initial conditions on a grid of points. \n",
    "Color the grid in three colors, according to the root, to which iterations converged."
   ]
  }
 ],
 "metadata": {
  "kernelspec": {
   "display_name": "Python 3",
   "language": "python",
   "name": "python3"
  },
  "language_info": {
   "codemirror_mode": {
    "name": "ipython",
    "version": 3
   },
   "file_extension": ".py",
   "mimetype": "text/x-python",
   "name": "python",
   "nbconvert_exporter": "python",
   "pygments_lexer": "ipython3",
   "version": "3.7.4"
  }
 },
 "nbformat": 4,
 "nbformat_minor": 2
}
